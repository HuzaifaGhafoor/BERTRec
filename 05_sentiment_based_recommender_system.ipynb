{
 "cells": [
  {
   "cell_type": "markdown",
   "metadata": {},
   "source": [
    "# Part 5: Sentiment-Based Business Recommender System"
   ]
  },
  {
   "cell_type": "markdown",
   "metadata": {},
   "source": [
    "In this notebook, we integrate our trained BERT-LSTM sentiment analysis model with a content-based recommender system. The system analyzes user reviews using our sentiment model and recommends similar businesses based on sentiment patterns, business features, and user preferences."
   ]
  },
  {
   "cell_type": "markdown",
   "metadata": {},
   "source": [
    "## Installing Dependencies"
   ]
  },
  {
   "cell_type": "code",
   "execution_count": null,
   "metadata": {},
   "outputs": [],
   "source": [
    "!pip install -q scikit-learn pandas numpy torch transformers matplotlib seaborn"
   ]
  },
  {
   "cell_type": "markdown",
   "metadata": {},
   "source": [
    "## Importing Dependencies"
   ]
  },
  {
   "cell_type": "code",
   "execution_count": null,
   "metadata": {},
   "outputs": [],
   "source": [
    "import pandas as pd\n",
    "import numpy as np\n",
    "import torch\n",
    "import torch.nn as nn\n",
    "from transformers import AutoModel, AutoTokenizer\n",
    "from sklearn.feature_extraction.text import TfidfVectorizer\n",
    "from sklearn.metrics.pairwise import cosine_similarity\n",
    "from sklearn.preprocessing import StandardScaler, LabelEncoder\n",
    "from sklearn.decomposition import PCA\n",
    "import matplotlib.pyplot as plt\n",
    "import seaborn as sns\n",
    "import json\n",
    "import warnings\n",
    "warnings.filterwarnings('ignore')"
   ]
  },
  {
   "cell_type": "markdown",
   "metadata": {},
   "source": [
    "## Loading Preprocessed Data and Business Information"
   ]
  },
  {
   "cell_type": "code",
   "execution_count": null,
   "metadata": {},
   "outputs": [],
   "source": [
    "# Load preprocessed review data\n",
    "reviews_df = pd.read_parquet(\"yelp_preprocessed.parquet\")\n",
    "print(f\"Reviews dataset shape: {reviews_df.shape}\")\n",
    "reviews_df.head()"
   ]
  },
  {
   "cell_type": "code",
   "execution_count": null,
   "metadata": {},
   "outputs": [],
   "source": [
    "# Load business data\n",
    "business_data = []\n",
    "with open('yelp_academic_dataset_business.json', 'r') as f:\n",
    "    for line in f:\n",
    "        business_data.append(json.loads(line))\n",
    "\n",
    "business_df = pd.DataFrame(business_data)\n",
    "print(f\"Business dataset shape: {business_df.shape}\")\n",
    "business_df.head()"
   ]
  },
  {
   "cell_type": "markdown",
   "metadata": {},
   "source": [
    "## BERT-LSTM Model Definition and Loading"
   ]
  },
  {
   "cell_type": "code",
   "execution_count": null,
   "metadata": {},
   "outputs": [],
   "source": [
    "class RoBERTa_LSTM(nn.Module):\n",
    "    def __init__(self, roberta_model='roberta-base', lstm_hidden=256, num_classes=3):\n",
    "        super().__init__()\n",
    "        self.roberta = AutoModel.from_pretrained(roberta_model)\n",
    "        self.lstm = nn.LSTM(input_size=self.roberta.config.hidden_size,\n",
    "                            hidden_size=lstm_hidden,\n",
    "                            batch_first=True,\n",
    "                            bidirectional=True)\n",
    "        self.norm = nn.LayerNorm(lstm_hidden * 2)\n",
    "        self.drop = nn.Dropout(0.4)\n",
    "        self.fc = nn.Linear(lstm_hidden * 2, num_classes)\n",
    "\n",
    "    def forward(self, input_ids, attention_mask):\n",
    "        roberta_out = self.roberta(input_ids=input_ids, attention_mask=attention_mask).last_hidden_state\n",
    "        lstm_out, _ = self.lstm(roberta_out)\n",
    "        pooled = torch.mean(lstm_out, dim=1)\n",
    "        normed = self.norm(pooled)\n",
    "        return self.fc(self.drop(normed))"
   ]
  },
  {
   "cell_type": "code",
   "execution_count": null,
   "metadata": {},
   "outputs": [],
   "source": [
    "# Load the trained sentiment model\n",
    "device = torch.device(\"cuda\" if torch.cuda.is_available() else \"cpu\")\n",
    "sentiment_model = RoBERTa_LSTM()\n",
    "sentiment_model.load_state_dict(torch.load(\"best_model.pt\", map_location=device))\n",
    "sentiment_model = sentiment_model.to(device)\n",
    "sentiment_model.eval()\n",
    "\n",
    "# Load tokenizer\n",
    "tokenizer = AutoTokenizer.from_pretrained('roberta-base')\n",
    "print(\"Sentiment model loaded successfully\")"
   ]
  },
  {
   "cell_type": "markdown",
   "metadata": {},
   "source": [
    "## Sentiment Analysis Function"
   ]
  },
  {
   "cell_type": "code",
   "execution_count": null,
   "metadata": {},
   "outputs": [],
   "source": [
    "def predict_sentiment(text, model, tokenizer, device, max_length=512):\n",
    "    \"\"\"\n",
    "    Predict sentiment for a given text using the trained BERT-LSTM model\n",
    "    Returns: sentiment_label (0: negative, 1: neutral, 2: positive), confidence_score\n",
    "    \"\"\"\n",
    "    model.eval()\n",
    "    \n",
    "    # Tokenize the text\n",
    "    encoding = tokenizer(\n",
    "        text,\n",
    "        truncation=True,\n",
    "        padding='max_length',\n",
    "        max_length=max_length,\n",
    "        return_tensors='pt'\n",
    "    )\n",
    "    \n",
    "    input_ids = encoding['input_ids'].to(device)\n",
    "    attention_mask = encoding['attention_mask'].to(device)\n",
    "    \n",
    "    with torch.no_grad():\n",
    "        outputs = model(input_ids, attention_mask)\n",
    "        probabilities = torch.softmax(outputs, dim=1)\n",
    "        predicted_class = torch.argmax(probabilities, dim=1).item()\n",
    "        confidence = probabilities[0][predicted_class].item()\n",
    "    \n",
    "    return predicted_class, confidence"
   ]
  },
  {
   "cell_type": "markdown",
   "metadata": {},
   "source": [
    "## Data Preprocessing for Recommender System"
   ]
  },
  {
   "cell_type": "code",
   "execution_count": null,
   "metadata": {},
   "outputs": [],
   "source": [
    "# Merge reviews with business data\n",
    "merged_df = reviews_df.merge(business_df[['business_id', 'name', 'city', 'state', 'categories', 'stars']], \n",
    "                            on='business_id', how='left', suffixes=('_review', '_business'))\n",
    "\n",
    "# Filter out businesses with missing information\n",
    "merged_df = merged_df.dropna(subset=['categories', 'name'])\n",
    "print(f\"Merged dataset shape: {merged_df.shape}\")\n",
    "merged_df.head()"
   ]
  },
  {
   "cell_type": "markdown",
   "metadata": {},
   "source": [
    "## Business Feature Engineering"
   ]
  },
  {
   "cell_type": "code",
   "execution_count": null,
   "metadata": {},
   "outputs": [],
   "source": [
    "# Create business features for recommendation\n",
    "def process_categories(categories_str):\n",
    "    if pd.isna(categories_str):\n",
    "        return []\n",
    "    return [cat.strip() for cat in categories_str.split(',')]\n",
    "\n",
    "# Process business categories\n",
    "business_df['categories_list'] = business_df['categories'].apply(process_categories)\n",
    "\n",
    "# Create category features using TF-IDF\n",
    "category_texts = business_df['categories'].fillna('').tolist()\n",
    "category_vectorizer = TfidfVectorizer(max_features=100, stop_words='english')\n",
    "category_features = category_vectorizer.fit_transform(category_texts)\n",
    "\n",
    "print(f\"Category features shape: {category_features.shape}\")\n",
    "print(f\"Sample categories: {business_df['categories'].dropna().head().tolist()}\")"
   ]
  },
  {
   "cell_type": "markdown",
   "metadata": {},
   "source": [
    "## Sentiment-Based Business Profiling"
   ]
  },
  {
   "cell_type": "code",
   "execution_count": null,
   "metadata": {},
   "outputs": [],
   "source": [
    "# Calculate sentiment distribution for each business\n",
    "def calculate_business_sentiment_profile(business_id, reviews_df):\n",
    "    business_reviews = reviews_df[reviews_df['business_id'] == business_id]\n",
    "    \n",
    "    if len(business_reviews) == 0:\n",
    "        return {'negative_ratio': 0, 'neutral_ratio': 0, 'positive_ratio': 0, 'total_reviews': 0}\n",
    "    \n",
    "    sentiment_counts = business_reviews['sentiment'].value_counts()\n",
    "    total = len(business_reviews)\n",
    "    \n",
    "    return {\n",
    "        'negative_ratio': sentiment_counts.get('negative', 0) / total,\n",
    "        'neutral_ratio': sentiment_counts.get('neutral', 0) / total,\n",
    "        'positive_ratio': sentiment_counts.get('positive', 0) / total,\n",
    "        'total_reviews': total\n",
    "    }\n",
    "\n",
    "# Create sentiment profiles for all businesses\n",
    "business_sentiment_profiles = {}\n",
    "for business_id in business_df['business_id'].unique():\n",
    "    business_sentiment_profiles[business_id] = calculate_business_sentiment_profile(business_id, merged_df)\n",
    "\n",
    "# Convert to DataFrame\n",
    "sentiment_profile_df = pd.DataFrame.from_dict(business_sentiment_profiles, orient='index')\n",
    "sentiment_profile_df.reset_index(inplace=True)\n",
    "sentiment_profile_df.rename(columns={'index': 'business_id'}, inplace=True)\n",
    "\n",
    "print(f\"Sentiment profiles shape: {sentiment_profile_df.shape}\")\n",
    "sentiment_profile_df.head()"
   ]
  },
  {
   "cell_type": "markdown",
   "metadata": {},
   "source": [
    "## Content-Based Recommender System Class"
   ]
  },
  {
   "cell_type": "code",
   "execution_count": null,
   "metadata": {},
   "outputs": [],
   "source": [
    "class SentimentBasedRecommender:\n",
    "    def __init__(self, business_df, sentiment_profile_df, category_features, sentiment_model, tokenizer, device):\n",
    "        self.business_df = business_df\n",
    "        self.sentiment_profile_df = sentiment_profile_df\n",
    "        self.category_features = category_features\n",
    "        self.sentiment_model = sentiment_model\n",
    "        self.tokenizer = tokenizer\n",
    "        self.device = device\n",
    "        \n",
    "        # Merge business data with sentiment profiles\n",
    "        self.business_features_df = business_df.merge(sentiment_profile_df, on='business_id', how='left')\n",
    "        self.business_features_df = self.business_features_df.fillna(0)\n",
    "        \n",
    "        # Prepare feature matrix\n",
    "        self._prepare_feature_matrix()\n",
    "    \n",
    "    def _prepare_feature_matrix(self):\n",
    "        # Combine numerical features\n",
    "        numerical_features = ['stars', 'negative_ratio', 'neutral_ratio', 'positive_ratio', 'total_reviews']\n",
    "        numerical_data = self.business_features_df[numerical_features].fillna(0)\n",
    "        \n",
    "        # Standardize numerical features\n",
    "        scaler = StandardScaler()\n",
    "        numerical_scaled = scaler.fit_transform(numerical_data)\n",
    "        \n",
    "        # Combine with category features\n",
    "        self.feature_matrix = np.hstack([numerical_scaled, self.category_features.toarray()])\n",
    "        \n",
    "        print(f\"Feature matrix shape: {self.feature_matrix.shape}\")\n",
    "    \n",
    "    def predict_user_sentiment(self, user_review):\n",
    "        \"\"\"Predict sentiment for user's review\"\"\"\n",
    "        sentiment_label, confidence = predict_sentiment(\n",
    "            user_review, self.sentiment_model, self.tokenizer, self.device\n",
    "        )\n",
    "        \n",
    "        sentiment_map = {0: 'negative', 1: 'neutral', 2: 'positive'}\n",
    "        return sentiment_map[sentiment_label], confidence\n",
    "    \n",
    "    def find_similar_businesses(self, business_id, top_k=10):\n",
    "        \"\"\"Find businesses similar to the given business_id\"\"\"\n",
    "        try:\n",
    "            business_idx = self.business_features_df[self.business_features_df['business_id'] == business_id].index[0]\n",
    "        except IndexError:\n",
    "            return []\n",
    "        \n",
    "        # Calculate cosine similarity\n",
    "        similarities = cosine_similarity([self.feature_matrix[business_idx]], self.feature_matrix)[0]\n",
    "        \n",
    "        # Get top similar businesses (excluding the business itself)\n",
    "        similar_indices = np.argsort(similarities)[::-1][1:top_k+1]\n",
    "        \n",
    "        recommendations = []\n",
    "        for idx in similar_indices:\n",
    "            business_info = self.business_features_df.iloc[idx]\n",
    "            recommendations.append({\n",
    "                'business_id': business_info['business_id'],\n",
    "                'name': business_info['name'],\n",
    "                'city': business_info['city'],\n",
    "                'state': business_info['state'],\n",
    "                'categories': business_info['categories'],\n",
    "                'stars': business_info['stars'],\n",
    "                'similarity_score': similarities[idx],\n",
    "                'positive_ratio': business_info['positive_ratio'],\n",
    "                'total_reviews': business_info['total_reviews']\n",
    "            })\n",
    "        \n",
    "        return recommendations"
   ]
  },
  {
   "cell_type": "markdown",
   "metadata": {},
   "source": [
    "## Initialize Recommender System"
   ]
  },
  {
   "cell_type": "code",
   "execution_count": null,
   "metadata": {},
   "outputs": [],
   "source": [
    "# Initialize the recommender system\n",
    "recommender = SentimentBasedRecommender(\n",
    "    business_df=business_df,\n",
    "    sentiment_profile_df=sentiment_profile_df,\n",
    "    category_features=category_features,\n",
    "    sentiment_model=sentiment_model,\n",
    "    tokenizer=tokenizer,\n",
    "    device=device\n",
    ")\n",
    "\n",
    "print(\"Recommender system initialized successfully!\")"
   ]
  }
 ],
 "metadata": {
  "kernelspec": {
   "display_name": "Python 3",
   "language": "python",
   "name": "python3"
  },
  "language_info": {
   "codemirror_mode": {
    "name": "ipython",
    "version": 3
   },
   "file_extension": ".py",
   "mimetype": "text/x-python",
   "name": "python",
   "nbconvert_exporter": "python",
   "pygments_lexer": "ipython3",
   "version": "3.11.11"
  }
 },
 "nbformat": 4,
 "nbformat_minor": 4
}
