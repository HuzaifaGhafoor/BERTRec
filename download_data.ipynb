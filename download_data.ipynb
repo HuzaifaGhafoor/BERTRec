{
 "cells": [
  {
   "cell_type": "markdown",
   "id": "7e867d48",
   "metadata": {},
   "source": [
    "## Installing and Loading Deps"
   ]
  },
  {
   "cell_type": "code",
   "execution_count": 1,
   "id": "80d82931",
   "metadata": {},
   "outputs": [
    {
     "name": "stdout",
     "output_type": "stream",
     "text": [
      "Requirement already satisfied: gdown in /usr/local/lib/python3.11/dist-packages (5.2.0)\n",
      "Requirement already satisfied: beautifulsoup4 in /usr/local/lib/python3.11/dist-packages (from gdown) (4.13.3)\n",
      "Requirement already satisfied: filelock in /usr/local/lib/python3.11/dist-packages (from gdown) (3.18.0)\n",
      "Requirement already satisfied: requests[socks] in /usr/local/lib/python3.11/dist-packages (from gdown) (2.32.3)\n",
      "Requirement already satisfied: tqdm in /usr/local/lib/python3.11/dist-packages (from gdown) (4.67.1)\n",
      "Requirement already satisfied: soupsieve>1.2 in /usr/local/lib/python3.11/dist-packages (from beautifulsoup4->gdown) (2.6)\n",
      "Requirement already satisfied: typing-extensions>=4.0.0 in /usr/local/lib/python3.11/dist-packages (from beautifulsoup4->gdown) (4.13.2)\n",
      "Requirement already satisfied: charset-normalizer<4,>=2 in /usr/local/lib/python3.11/dist-packages (from requests[socks]->gdown) (3.4.2)\n",
      "Requirement already satisfied: idna<4,>=2.5 in /usr/local/lib/python3.11/dist-packages (from requests[socks]->gdown) (3.10)\n",
      "Requirement already satisfied: urllib3<3,>=1.21.1 in /usr/local/lib/python3.11/dist-packages (from requests[socks]->gdown) (2.4.0)\n",
      "Requirement already satisfied: certifi>=2017.4.17 in /usr/local/lib/python3.11/dist-packages (from requests[socks]->gdown) (2025.4.26)\n",
      "Requirement already satisfied: PySocks!=1.5.7,>=1.5.6 in /usr/local/lib/python3.11/dist-packages (from requests[socks]->gdown) (1.7.1)\n"
     ]
    }
   ],
   "source": [
    "! pip install gdown"
   ]
  },
  {
   "cell_type": "markdown",
   "id": "b86a5b2a",
   "metadata": {},
   "source": [
    "## Download Model"
   ]
  },
  {
   "cell_type": "code",
   "execution_count": 2,
   "id": "78447465",
   "metadata": {},
   "outputs": [
    {
     "name": "stdout",
     "output_type": "stream",
     "text": [
      "Downloading...\n",
      "From (original): https://drive.google.com/uc?id=1fh27qYFov1hvPCQkPkBUJrw6PfmF2M5o\n",
      "From (redirected): https://drive.google.com/uc?id=1fh27qYFov1hvPCQkPkBUJrw6PfmF2M5o&confirm=t&uuid=b2a33241-4e6d-4863-9fa1-60b5babafff0\n",
      "To: /kaggle/working/best_model.pt\n",
      "100%|█████████████████████████████████████████| 507M/507M [00:04<00:00, 110MB/s]\n"
     ]
    }
   ],
   "source": [
    "! gdown 1fh27qYFov1hvPCQkPkBUJrw6PfmF2M5o"
   ]
  },
  {
   "cell_type": "markdown",
   "id": "55eaf481",
   "metadata": {},
   "source": [
    "## Download datasets"
   ]
  },
  {
   "cell_type": "code",
   "execution_count": 3,
   "id": "a184cb8e",
   "metadata": {},
   "outputs": [
    {
     "name": "stdout",
     "output_type": "stream",
     "text": [
      "Downloading...\n",
      "From (original): https://drive.google.com/uc?id=1jMhacUHwBpWGpKOazwWxt0DWOzsVLNnY\n",
      "From (redirected): https://drive.google.com/uc?id=1jMhacUHwBpWGpKOazwWxt0DWOzsVLNnY&confirm=t&uuid=6e917c3b-a28d-4e4a-a92a-1ff7e2bb75dc\n",
      "To: /kaggle/working/yelp_preprocessed.parquet\n",
      "100%|████████████████████████████████████████| 664M/664M [00:06<00:00, 99.2MB/s]\n"
     ]
    }
   ],
   "source": [
    "! gdown 1jMhacUHwBpWGpKOazwWxt0DWOzsVLNnY"
   ]
  },
  {
   "cell_type": "code",
   "execution_count": 4,
   "id": "7874a947",
   "metadata": {},
   "outputs": [
    {
     "name": "stdout",
     "output_type": "stream",
     "text": [
      "Downloading...\n",
      "From (original): https://drive.google.com/uc?id=167HeuRH581eFsso0PtmUyWoT1pHp4kUI\n",
      "From (redirected): https://drive.google.com/uc?id=167HeuRH581eFsso0PtmUyWoT1pHp4kUI&confirm=t&uuid=4c153a41-2db5-445a-92a6-54f7dfbb7bee\n",
      "To: /kaggle/working/yelp_academic_dataset_business.json\n",
      "100%|████████████████████████████████████████| 119M/119M [00:01<00:00, 82.2MB/s]\n"
     ]
    }
   ],
   "source": [
    "! gdown 167HeuRH581eFsso0PtmUyWoT1pHp4kUI "
   ]
  },
  {
   "cell_type": "code",
   "execution_count": null,
   "id": "28a9ec3e",
   "metadata": {},
   "outputs": [],
   "source": []
  }
 ],
 "metadata": {
  "kernelspec": {
   "display_name": "Python 3",
   "language": "python",
   "name": "python3"
  },
  "language_info": {
   "codemirror_mode": {
    "name": "ipython",
    "version": 3
   },
   "file_extension": ".py",
   "mimetype": "text/x-python",
   "name": "python",
   "nbconvert_exporter": "python",
   "pygments_lexer": "ipython3",
   "version": "3.11.11"
  }
 },
 "nbformat": 4,
 "nbformat_minor": 5
}
