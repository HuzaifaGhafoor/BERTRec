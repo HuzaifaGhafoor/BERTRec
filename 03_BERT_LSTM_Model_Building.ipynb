{
 "cells": [
  {
   "cell_type": "markdown",
   "metadata": {},
   "source": [
    "# Part 3: BERT-LSTM Model Building"
   ]
  },
  {
   "cell_type": "markdown",
   "metadata": {},
   "source": [
    "In this notebook, we will use the tokenized Yelp Dataset and fine-tune the RoBERTa model for our ternary sentiment analysis task. RoBERTa is a larger, more robust version of the original BERT, having been trained on more than 160 GB of textual data, making it capable for our task."
   ]
  },
  {
   "cell_type": "markdown",
   "metadata": {},
   "source": [
    "## Installing Dependencies"
   ]
  },
  {
   "cell_type": "code",
   "execution_count": null,
   "metadata": {
    "trusted": true
   },
   "outputs": [],
   "source": [
    "! pip install -q gdown google-api-python-client google-auth google-auth-httplib2 google-auth-oauthlib"
   ]
  },
  {
   "cell_type": "markdown",
   "metadata": {},
   "source": [
    "## Downloading tokenized datasets and their labels"
   ]
  },
  {
   "cell_type": "code",
   "execution_count": null,
   "metadata": {
    "trusted": true
   },
   "outputs": [],
   "source": [
    "file_ids = ['11JFdenZ7TMGib8Tt8mPfQITGtn28KcBM', \n",
    "            '1zLzSOV6498qSusNIXvuOQn4PRoe2be_a', \n",
    "            '1j4JnzhLushqU-AFd1KOn08_Kt_YC77YN',\n",
    "            '1QtvHQO4TbSRqSRnuqL27pXTy5lMVdHsP',\n",
    "            '1_T2tYQpBDr1pC6HNqVTNeJUtD3gS4KeN',\n",
    "            '17A_cbIZP53Ho9itsF8Sz43IScLssin_U']"
   ]
  },
  {
   "cell_type": "code",
   "execution_count": null,
   "metadata": {
    "trusted": true
   },
   "outputs": [],
   "source": [
    "for file_id in file_ids:\n",
    "    ! gdown {file_id}"
   ]
  },
  {
   "cell_type": "markdown",
   "metadata": {},
   "source": [
    "## Importing Dependencies"
   ]
  },
  {
   "cell_type": "code",
   "execution_count": null,
   "metadata": {
    "execution": {
     "iopub.execute_input": "2025-05-24T13:06:44.088175Z",
     "iopub.status.busy": "2025-05-24T13:06:44.087916Z",
     "iopub.status.idle": "2025-05-24T13:06:48.997289Z",
     "shell.execute_reply": "2025-05-24T13:06:48.996703Z",
     "shell.execute_reply.started": "2025-05-24T13:06:44.088155Z"
    },
    "trusted": true
   },
   "outputs": [],
   "source": [
    "from google.oauth2 import service_account\n",
    "from googleapiclient.discovery import build\n",
    "from googleapiclient.http import MediaFileUpload, MediaIoBaseDownload\n",
    "import io\n",
    "import re\n",
    "import torch\n",
    "import torch.nn as nn\n",
    "import torch.optim as optim\n",
    "from torch.utils.data import DataLoader, TensorDataset\n",
    "from transformers import AutoModel, get_linear_schedule_with_warmup\n",
    "from torch.amp import autocast, GradScaler\n",
    "import time\n",
    "from tqdm import tqdm\n",
    "from torch.nn import DataParallel\n",
    "from sklearn.metrics import precision_score, recall_score, f1_score\n",
    "import os\n",
    "import gdown\n",
    "import sys"
   ]
  },
  {
   "cell_type": "markdown",
   "metadata": {},
   "source": [
    "## Setting up credentials to save checkpoints"
   ]
  },
  {
   "cell_type": "code",
   "execution_count": null,
   "metadata": {
    "execution": {
     "iopub.execute_input": "2025-05-24T13:06:49.123164Z",
     "iopub.status.busy": "2025-05-24T13:06:49.122531Z",
     "iopub.status.idle": "2025-05-24T13:06:49.126627Z",
     "shell.execute_reply": "2025-05-24T13:06:49.125774Z",
     "shell.execute_reply.started": "2025-05-24T13:06:49.123141Z"
    },
    "trusted": true
   },
   "outputs": [],
   "source": [
    "CREDENTIALS_FILE_ID = '10O9NYV9U8l6F3CSxZ4_5kmN9BQDc12FN'\n",
    "CREDENTIALS_LOCAL = 'credentials.json'\n",
    "CHECKPOINT_FOLDER_ID = '17zp1KQwNd3MKmnkd_-BWiTtscmnH6Sdm'"
   ]
  },
  {
   "cell_type": "markdown",
   "metadata": {},
   "source": [
    "## Setting up GPU"
   ]
  },
  {
   "cell_type": "code",
   "execution_count": null,
   "metadata": {
    "execution": {
     "iopub.execute_input": "2025-05-24T13:06:49.362596Z",
     "iopub.status.busy": "2025-05-24T13:06:49.362011Z",
     "iopub.status.idle": "2025-05-24T13:06:49.365794Z",
     "shell.execute_reply": "2025-05-24T13:06:49.365190Z",
     "shell.execute_reply.started": "2025-05-24T13:06:49.362575Z"
    },
    "trusted": true
   },
   "outputs": [],
   "source": [
    "device = torch.device(\"cuda\")"
   ]
  },
  {
   "cell_type": "markdown",
   "metadata": {},
   "source": [
    "## Loading Dataset"
   ]
  },
  {
   "cell_type": "code",
   "execution_count": null,
   "metadata": {
    "execution": {
     "iopub.execute_input": "2025-05-24T13:06:49.567060Z",
     "iopub.status.busy": "2025-05-24T13:06:49.566528Z",
     "iopub.status.idle": "2025-05-24T13:06:54.066377Z",
     "shell.execute_reply": "2025-05-24T13:06:54.065774Z",
     "shell.execute_reply.started": "2025-05-24T13:06:49.567040Z"
    },
    "trusted": true
   },
   "outputs": [],
   "source": [
    "train_encodings = torch.load(\"train_encodings.pt\")\n",
    "val_encodings = torch.load(\"val_encodings.pt\")\n",
    "test_encodings = torch.load(\"test_encodings.pt\")"
   ]
  },
  {
   "cell_type": "code",
   "execution_count": null,
   "metadata": {
    "execution": {
     "iopub.execute_input": "2025-05-24T13:06:54.067897Z",
     "iopub.status.busy": "2025-05-24T13:06:54.067645Z",
     "iopub.status.idle": "2025-05-24T13:06:54.083873Z",
     "shell.execute_reply": "2025-05-24T13:06:54.083278Z",
     "shell.execute_reply.started": "2025-05-24T13:06:54.067878Z"
    },
    "trusted": true
   },
   "outputs": [],
   "source": [
    "train_labels = torch.load(\"train_labels.pt\")\n",
    "val_labels = torch.load(\"val_labels.pt\")\n",
    "test_labels = torch.load(\"test_labels.pt\")"
   ]
  },
  {
   "cell_type": "markdown",
   "metadata": {},
   "source": [
    "## Dataset Preparation"
   ]
  },
  {
   "cell_type": "code",
   "execution_count": null,
   "metadata": {
    "execution": {
     "iopub.execute_input": "2025-05-24T13:06:54.084596Z",
     "iopub.status.busy": "2025-05-24T13:06:54.084374Z",
     "iopub.status.idle": "2025-05-24T13:06:54.090521Z",
     "shell.execute_reply": "2025-05-24T13:06:54.089977Z",
     "shell.execute_reply.started": "2025-05-24T13:06:54.084569Z"
    },
    "trusted": true
   },
   "outputs": [],
   "source": [
    "train_dataset = TensorDataset(train_encodings['input_ids'], train_encodings['attention_mask'], train_labels)\n",
    "val_dataset = TensorDataset(val_encodings['input_ids'], val_encodings['attention_mask'], val_labels)\n",
    "test_dataset = TensorDataset(test_encodings['input_ids'], test_encodings['attention_mask'], test_labels)"
   ]
  },
  {
   "cell_type": "code",
   "execution_count": null,
   "metadata": {
    "execution": {
     "iopub.execute_input": "2025-05-24T13:06:54.092144Z",
     "iopub.status.busy": "2025-05-24T13:06:54.091900Z",
     "iopub.status.idle": "2025-05-24T13:06:54.106913Z",
     "shell.execute_reply": "2025-05-24T13:06:54.106386Z",
     "shell.execute_reply.started": "2025-05-24T13:06:54.092128Z"
    },
    "trusted": true
   },
   "outputs": [],
   "source": [
    "batch_size = 64\n",
    "train_loader = DataLoader(train_dataset, batch_size=batch_size, shuffle=True, pin_memory=True)\n",
    "val_loader = DataLoader(val_dataset, batch_size=batch_size, pin_memory=True)\n",
    "test_loader = DataLoader(test_dataset, batch_size=batch_size, pin_memory=True)"
   ]
  },
  {
   "cell_type": "markdown",
   "metadata": {},
   "source": [
    "## Defining Architecture"
   ]
  },
  {
   "cell_type": "code",
   "execution_count": null,
   "metadata": {
    "execution": {
     "iopub.execute_input": "2025-05-24T13:06:55.366763Z",
     "iopub.status.busy": "2025-05-24T13:06:55.366465Z",
     "iopub.status.idle": "2025-05-24T13:06:55.372379Z",
     "shell.execute_reply": "2025-05-24T13:06:55.371615Z",
     "shell.execute_reply.started": "2025-05-24T13:06:55.366741Z"
    },
    "trusted": true
   },
   "outputs": [],
   "source": [
    "class RoBERTa_LSTM(nn.Module):\n",
    "    def __init__(self, roberta_model='roberta-base', lstm_hidden=256, num_classes=3):\n",
    "        super().__init__()\n",
    "        self.roberta = AutoModel.from_pretrained(roberta_model)\n",
    "        self.lstm = nn.LSTM(input_size=self.roberta.config.hidden_size,\n",
    "                            hidden_size=lstm_hidden,\n",
    "                            batch_first=True,\n",
    "                            bidirectional=True)\n",
    "\n",
    "        self.norm = nn.LayerNorm(lstm_hidden * 2)\n",
    "        self.drop = nn.Dropout(0.4)\n",
    "        self.fc = nn.Linear(lstm_hidden * 2, num_classes)\n",
    "\n",
    "    def forward(self, input_ids, attention_mask):\n",
    "        roberta_out = self.roberta(input_ids=input_ids, attention_mask=attention_mask).last_hidden_state\n",
    "        lstm_out, _ = self.lstm(roberta_out)\n",
    "        pooled = torch.mean(lstm_out, dim=1)\n",
    "        normed = self.norm(pooled)\n",
    "        return self.fc(self.drop(normed))"
   ]
  },
  {
   "cell_type": "markdown",
   "metadata": {},
   "source": [
    "## Model Initialization"
   ]
  },
  {
   "cell_type": "code",
   "execution_count": null,
   "metadata": {
    "execution": {
     "iopub.execute_input": "2025-05-24T13:06:56.916313Z",
     "iopub.status.busy": "2025-05-24T13:06:56.916074Z",
     "iopub.status.idle": "2025-05-24T13:07:01.924178Z",
     "shell.execute_reply": "2025-05-24T13:07:01.923585Z",
     "shell.execute_reply.started": "2025-05-24T13:06:56.916297Z"
    },
    "trusted": true
   },
   "outputs": [],
   "source": [
    "model = RoBERTa_LSTM()\n",
    "model = DataParallel(model)\n",
    "model = model.to(device)\n",
    "criterion = nn.CrossEntropyLoss(label_smoothing=0.1)\n",
    "optimizer = optim.AdamW(model.parameters(), lr=2e-5, weight_decay=0.01)\n",
    "num_training_steps = len(train_loader) * 5\n",
    "num_warmup_steps = int(0.1 * num_training_steps)\n",
    "scheduler = get_linear_schedule_with_warmup(optimizer,\n",
    "                                            num_warmup_steps=num_warmup_steps,\n",
    "                                            num_training_steps=num_training_steps)"
   ]
  },
  {
   "cell_type": "code",
   "execution_count": null,
   "metadata": {
    "execution": {
     "iopub.execute_input": "2025-05-24T13:07:01.926135Z",
     "iopub.status.busy": "2025-05-24T13:07:01.925370Z",
     "iopub.status.idle": "2025-05-24T13:07:01.929519Z",
     "shell.execute_reply": "2025-05-24T13:07:01.928976Z",
     "shell.execute_reply.started": "2025-05-24T13:07:01.926114Z"
    },
    "trusted": true
   },
   "outputs": [],
   "source": [
    "scaler = GradScaler()\n",
    "epochs = 5"
   ]
  },
  {
   "cell_type": "markdown",
   "metadata": {},
   "source": [
    "## Training"
   ]
  },
  {
   "cell_type": "code",
   "execution_count": null,
   "metadata": {
    "execution": {
     "iopub.execute_input": "2025-05-24T13:07:02.421573Z",
     "iopub.status.busy": "2025-05-24T13:07:02.420720Z",
     "iopub.status.idle": "2025-05-24T13:07:02.446629Z",
     "shell.execute_reply": "2025-05-24T13:07:02.445942Z",
     "shell.execute_reply.started": "2025-05-24T13:07:02.421520Z"
    },
    "trusted": true
   },
   "outputs": [],
   "source": [
    "def download_credentials():\n",
    "    if os.path.exists(CREDENTIALS_LOCAL):\n",
    "        print(\"[INFO] Credentials.json already exists locally.\")\n",
    "        return\n",
    "    url = f\"https://drive.google.com/uc?id={CREDENTIALS_FILE_ID}\"\n",
    "    print(\"[INFO] Downloading credentials.json from Drive...\")\n",
    "    gdown.download(url, CREDENTIALS_LOCAL, quiet=False)\n",
    "\n",
    "def get_drive_service():\n",
    "    creds = service_account.Credentials.from_service_account_file(\n",
    "        CREDENTIALS_LOCAL,\n",
    "        scopes=['https://www.googleapis.com/auth/drive']\n",
    "    )\n",
    "    return build('drive', 'v3', credentials=creds)\n",
    "\n",
    "def list_files(service, query):\n",
    "    results = service.files().list(q=query, fields=\"files(id, name)\").execute()\n",
    "    return results.get('files', [])\n",
    "\n",
    "def download_file(service, file_id, filepath):\n",
    "    request = service.files().get_media(fileId=file_id)\n",
    "    fh = io.FileIO(filepath, 'wb')\n",
    "    downloader = MediaIoBaseDownload(fh, request)\n",
    "    done = False\n",
    "    while not done:\n",
    "        _, done = downloader.next_chunk()\n",
    "    print(f\"[INFO] Downloaded {filepath} from Drive.\")\n",
    "\n",
    "def upload_or_replace_file(service, folder_id, filename):\n",
    "    query = f\"name='{filename}' and '{folder_id}' in parents and trashed=false\"\n",
    "    files = list_files(service, query)\n",
    "\n",
    "    media = MediaFileUpload(filename, resumable=True)\n",
    "    if files:\n",
    "        file_id = files[0]['id']\n",
    "        service.files().update(fileId=file_id, media_body=media).execute()\n",
    "        print(f\"[INFO] Updated file on Drive: {filename}\")\n",
    "    else:\n",
    "        metadata = {'name': filename, 'parents': [folder_id]}\n",
    "        service.files().create(body=metadata, media_body=media).execute()\n",
    "        print(f\"[INFO] Uploaded new file to Drive: {filename}\")\n",
    "\n",
    "def find_latest_epoch(service, folder_id):\n",
    "    query = f\"name contains 'checkpoint_epoch_' and '{folder_id}' in parents and trashed=false\"\n",
    "    files = list_files(service, query)\n",
    "    max_epoch = 0\n",
    "    latest_file = None\n",
    "    for file in files:\n",
    "        match = re.match(r'checkpoint_epoch_(\\d+)\\.pt', file['name'])\n",
    "        if match:\n",
    "            epoch_num = int(match.group(1))\n",
    "            if epoch_num > max_epoch:\n",
    "                max_epoch = epoch_num\n",
    "                latest_file = file\n",
    "    return max_epoch, latest_file\n",
    "\n",
    "def train(model, optimizer, scheduler, criterion, train_loader, val_loader, scaler, epochs_total):\n",
    "    download_credentials()\n",
    "    service = get_drive_service()\n",
    "\n",
    "    start_epoch = 1\n",
    "    best_accuracy = 0.0\n",
    "\n",
    "    latest_epoch, latest_ckpt_file = find_latest_epoch(service, CHECKPOINT_FOLDER_ID)\n",
    "\n",
    "    if latest_epoch > 0:\n",
    "        print(f\"[INFO] Found latest checkpoint on Drive: Epoch {latest_epoch} - downloading...\")\n",
    "        download_file(service, latest_ckpt_file['id'], f\"checkpoint_epoch_{latest_epoch}.pt\")\n",
    "        checkpoint = torch.load(f\"checkpoint_epoch_{latest_epoch}.pt\", map_location=device)\n",
    "        model.module.load_state_dict(checkpoint['model_state_dict'])\n",
    "        optimizer.load_state_dict(checkpoint['optimizer_state_dict'])\n",
    "        scheduler.load_state_dict(checkpoint['scheduler_state_dict'])\n",
    "        scaler.load_state_dict(checkpoint['scaler_state_dict'])\n",
    "        best_accuracy = checkpoint.get('best_accuracy', 0.0)\n",
    "        start_epoch = latest_epoch + 1\n",
    "        print(f\"[INFO] Resuming training from epoch {start_epoch}\")\n",
    "    else:\n",
    "        print(\"[INFO] No checkpoint found on Drive. Starting fresh training.\")\n",
    "\n",
    "    global_step = 0\n",
    "    training_start = time.time()\n",
    "\n",
    "    for epoch in range(start_epoch, epochs_total + 1):\n",
    "        model.train()\n",
    "        epoch_start = time.time()\n",
    "        total_loss = 0\n",
    "        correct = 0\n",
    "        total = 0\n",
    "\n",
    "        train_bar = tqdm(train_loader, desc=f\"Epoch {epoch}/{epochs_total} [Train]\", leave=True, file=sys.stdout)\n",
    "\n",
    "        for batch in train_bar:\n",
    "            input_ids = batch[0].to(device, non_blocking=True)\n",
    "            attention_mask = batch[1].to(device, non_blocking=True)\n",
    "            labels = batch[2].to(device, non_blocking=True)\n",
    "\n",
    "            optimizer.zero_grad()\n",
    "            with autocast('cuda'):\n",
    "                outputs = model(input_ids, attention_mask)\n",
    "                loss = criterion(outputs, labels)\n",
    "\n",
    "            scaler.scale(loss).backward()\n",
    "            scaler.step(optimizer)\n",
    "            scaler.update()\n",
    "            scheduler.step()\n",
    "\n",
    "            global_step += 1\n",
    "            total_loss += loss.item()\n",
    "\n",
    "            preds = torch.argmax(outputs, dim=1)\n",
    "            correct += (preds == labels).sum().item()\n",
    "            total += labels.size(0)\n",
    "\n",
    "            train_bar.set_postfix({\n",
    "                'loss': f'{loss.item():.4f}',\n",
    "                'acc': f'{(correct / total) * 100:.2f}%'\n",
    "            })\n",
    "\n",
    "        train_acc = correct / total * 100\n",
    "\n",
    "        model.eval()\n",
    "        val_loss = 0\n",
    "        correct = 0\n",
    "        total = 0\n",
    "        all_preds = []\n",
    "        all_labels = []\n",
    "\n",
    "        val_bar = tqdm(val_loader, desc=f\"Epoch {epoch}/{epochs_total} [Val]\", leave=False, file=sys.stdout)\n",
    "\n",
    "        with torch.no_grad():\n",
    "            for batch in val_bar:\n",
    "                input_ids = batch[0].to(device)\n",
    "                attention_mask = batch[1].to(device)\n",
    "                labels = batch[2].to(device)\n",
    "\n",
    "                outputs = model(input_ids, attention_mask)\n",
    "                loss = criterion(outputs, labels)\n",
    "                val_loss += loss.item()\n",
    "\n",
    "                preds = torch.argmax(outputs, dim=1)\n",
    "                all_preds.extend(preds.cpu().tolist())\n",
    "                all_labels.extend(labels.cpu().tolist())\n",
    "\n",
    "                correct += (preds == labels).sum().item()\n",
    "                total += labels.size(0)\n",
    "\n",
    "                accuracy = (correct / total * 100) if total > 0 else 0\n",
    "                precision = precision_score(all_labels, all_preds, average='weighted', zero_division=0) if total > 0 else 0\n",
    "                recall = recall_score(all_labels, all_preds, average='weighted', zero_division=0) if total > 0 else 0\n",
    "                f1 = f1_score(all_labels, all_preds, average='weighted', zero_division=0) if total > 0 else 0\n",
    "\n",
    "                val_bar.set_postfix({\n",
    "                    'val_loss': f'{loss.item():.4f}',\n",
    "                    'acc': f'{accuracy:.2f}%',\n",
    "                    'prec': f'{precision:.2f}',\n",
    "                    'rec': f'{recall:.2f}',\n",
    "                    'f1': f'{f1:.2f}'\n",
    "                })\n",
    "\n",
    "        avg_val_loss = val_loss / len(val_loader)\n",
    "\n",
    "        print(f\"\\nEpoch {epoch}/{epochs_total} | \"\n",
    "              f\"Train Loss: {total_loss/len(train_loader):.4f}, \"\n",
    "              f\"Train Acc: {train_acc:.2f}% | \"\n",
    "              f\"Val Loss: {avg_val_loss:.4f}, \"\n",
    "              f\"Val Acc: {accuracy:.2f}%, Prec: {precision:.4f}, Rec: {recall:.4f}, F1: {f1:.4f}\\n\")\n",
    "\n",
    "        checkpoint_data = {\n",
    "            'model_state_dict': model.module.state_dict(),\n",
    "            'optimizer_state_dict': optimizer.state_dict(),\n",
    "            'scheduler_state_dict': scheduler.state_dict(),\n",
    "            'scaler_state_dict': scaler.state_dict(),\n",
    "            'epoch': epoch,\n",
    "            'best_accuracy': best_accuracy,\n",
    "        }\n",
    "        ckpt_filename = f\"checkpoint_epoch_{epoch}.pt\"\n",
    "        torch.save(checkpoint_data, ckpt_filename)\n",
    "\n",
    "        upload_or_replace_file(service, CHECKPOINT_FOLDER_ID, ckpt_filename)\n",
    "\n",
    "        if accuracy > best_accuracy:\n",
    "            best_accuracy = accuracy\n",
    "            torch.save(model.module.state_dict(), \"best_model.pt\")\n",
    "            upload_or_replace_file(service, CHECKPOINT_FOLDER_ID, \"best_model.pt\")\n",
    "\n",
    "    print(f\"[INFO] Training complete. Total time: {int((time.time() - training_start)/60)} minutes\")\n",
    "\n"
   ]
  },
  {
   "cell_type": "code",
   "execution_count": null,
   "metadata": {
    "execution": {
     "iopub.execute_input": "2025-05-24T13:07:07.829903Z",
     "iopub.status.busy": "2025-05-24T13:07:07.829609Z",
     "iopub.status.idle": "2025-05-24T13:07:19.471123Z",
     "shell.execute_reply": "2025-05-24T13:07:19.470054Z",
     "shell.execute_reply.started": "2025-05-24T13:07:07.829883Z"
    },
    "trusted": true
   },
   "outputs": [],
   "source": [
    "train(model, optimizer, scheduler, criterion, train_loader, val_loader, scaler, epochs)"
   ]
  },
  {
   "cell_type": "code",
   "execution_count": null,
   "metadata": {
    "trusted": true
   },
   "outputs": [],
   "source": []
  }
 ],
 "metadata": {
  "kaggle": {
   "accelerator": "nvidiaTeslaT4",
   "dataSources": [],
   "dockerImageVersionId": 31040,
   "isGpuEnabled": true,
   "isInternetEnabled": true,
   "language": "python",
   "sourceType": "notebook"
  },
  "kernelspec": {
   "display_name": "Python 3",
   "language": "python",
   "name": "python3"
  },
  "language_info": {
   "codemirror_mode": {
    "name": "ipython",
    "version": 3
   },
   "file_extension": ".py",
   "mimetype": "text/x-python",
   "name": "python",
   "nbconvert_exporter": "python",
   "pygments_lexer": "ipython3",
   "version": "3.11.11"
  }
 },
 "nbformat": 4,
 "nbformat_minor": 4
}
